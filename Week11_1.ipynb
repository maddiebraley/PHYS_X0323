{
 "cells": [
  {
   "cell_type": "code",
   "execution_count": null,
   "metadata": {},
   "outputs": [],
   "source": [
    "from matplotlib import pyplot as plt\n",
    "import numpy as np\n",
    "from astropy.io import fits \n",
    "import scipy.optimize as opt\n",
    "\n",
    "# POTENTIAL FITTING FUNCTIONS\n",
    "def linear(x,m,b):\n",
    "    return m*x+b\n",
    "\n",
    "def poly2(x,a,b,c):\n",
    "    return a*(x**2)+(b*x)+c\n",
    "\n",
    "def poly3(x,a,b,c,d):\n",
    "    return (a*(x**3))+(b*(x**2))+(c*x)+d\n",
    "\n",
    "def exponential(x,a,b,c,d):\n",
    "    return a*np.exp(b*x + c) + d\n",
    "\n",
    "def cosfit (x,a,b,c,d):\n",
    "    return a*np.cos(b*x + c) + d\n",
    "\n",
    "def logfit(x,a,b,c,d):\n",
    "    return a*np.log(b*x + c) + d\n",
    "\n",
    "def gausian(x,mu,sigma):\n",
    "    part1 = (1.0/np.sqrt(2*np.pi*sigma**2))\n",
    "    return (part1*(np.exp((-1*x - mu)**2/(2*sigma**2))))\n",
    "\n",
    "def lorentzian_cauchy (x,a,b,c):\n",
    "    return (c)*(b**2/((x-a)**2 + b**2))\n",
    "\n",
    "def sigmoid(x,a,b,c,d):\n",
    "    return (c/(1 + np.exp(-b*(x-a))) + d)\n",
    "\n",
    "# READ IN FITS FILES\n",
    "star_hdus = fits.open('allStar-r12-l33.fits')\n",
    "star = star_hdus[1].data\n",
    "print(star_hdus[1].columns)\n",
    "star_hdus.close()\n",
    "\n",
    "# TWO BITWISE FLAGS FOR BAD DATA             \n",
    "badbits = 2**23        # aspcapstar flag - Chemistry\n",
    "suspectbits = 2**16    # star flag - Stellar parameters\n",
    "\n",
    "# Make a Boolena Mask to remove bad data\n",
    "gd = (np.bitwise_and(star['aspcapflag'], badbits) == 0) &\\\n",
    "     (np.bitwise_and(star['starflag'], suspectbits) == 0) \n",
    "good = np.where(gd)[0]\n",
    "\n",
    "\n",
    "# PLOT TO VERIFY FITS FILE READ IN & BAD MASK DATA\n",
    "fig = plt.figure(figsize=(20,15))\n",
    "ax = fig.add_subplot(111)\n",
    "ax.scatter(star['RA'][good],star['DEC'][good],s=1,c='b',alpha=0.1)\n",
    "\n",
    "ax.xaxis.set_tick_params(labelsize=20)\n",
    "ax.yaxis.set_tick_params(labelsize=20)\n",
    "plt.show()"
   ]
  },
  {
   "cell_type": "code",
   "execution_count": null,
   "metadata": {},
   "outputs": [],
   "source": []
  },
  {
   "cell_type": "code",
   "execution_count": null,
   "metadata": {},
   "outputs": [],
   "source": []
  }
 ],
 "metadata": {
  "kernelspec": {
   "display_name": "Python 3",
   "language": "python",
   "name": "python3"
  },
  "language_info": {
   "codemirror_mode": {
    "name": "ipython",
    "version": 3
   },
   "file_extension": ".py",
   "mimetype": "text/x-python",
   "name": "python",
   "nbconvert_exporter": "python",
   "pygments_lexer": "ipython3",
   "version": "3.8.3"
  }
 },
 "nbformat": 4,
 "nbformat_minor": 2
}
