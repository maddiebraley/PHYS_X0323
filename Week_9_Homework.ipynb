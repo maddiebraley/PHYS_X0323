{
 "cells": [
  {
   "cell_type": "markdown",
   "metadata": {},
   "source": [
    "Let's Make A Deal"
   ]
  },
  {
   "cell_type": "code",
   "execution_count": 1,
   "metadata": {},
   "outputs": [],
   "source": [
    "import random"
   ]
  },
  {
   "cell_type": "code",
   "execution_count": 2,
   "metadata": {},
   "outputs": [
    {
     "name": "stdout",
     "output_type": "stream",
     "text": [
      "Enter number of games you would like to play:1000\n",
      "\n",
      "Probability of winning if you switch is 67.2 %\n",
      "Probability of winning if you stay is 32.800000000000004 %\n"
     ]
    }
   ],
   "source": [
    "def main():\n",
    "    n_games = int(input('Enter number of games you would like to play:'))\n",
    "    win_by_switch = 0\n",
    "    print()\n",
    "    for game in range (n_games):\n",
    "        prize = random.randint(1,3)\n",
    "        guess = random.randint(1,3)\n",
    "        open_door = random.randint(1,3)\n",
    "        while open_door == prize or open_door == guess:\n",
    "            open_door = random.randint(1,3)\n",
    "        next_guess = random.randint(1,3)\n",
    "        while next_guess == open_door or next_guess == guess:\n",
    "            next_guess = random.randint(1,3)\n",
    "        if next_guess ==prize:\n",
    "            win_by_switch += 1\n",
    "    switch_prob= (win_by_switch/n_games) *100\n",
    "    print(\"Probability of winning if you switch is\", switch_prob, \"%\")\n",
    "    stay_prob = ((n_games-win_by_switch)/n_games)*100\n",
    "    print(\"Probability of winning if you stay is\", stay_prob, \"%\")\n",
    "            \n",
    "main()            "
   ]
  },
  {
   "cell_type": "markdown",
   "metadata": {},
   "source": [
    "Radioactive Decay"
   ]
  },
  {
   "cell_type": "code",
   "execution_count": 16,
   "metadata": {},
   "outputs": [],
   "source": [
    "from random import random\n",
    "from numpy import arange\n",
    "from pylab import plot,xlabel,ylabel,show"
   ]
  },
  {
   "cell_type": "code",
   "execution_count": 17,
   "metadata": {},
   "outputs": [],
   "source": [
    "NBi213 = 10000             # Initial Number of atoms\n",
    "NPb = 0               \n",
    "NTl = 0               \n",
    "NBi209 = 0\n",
    "tauBi = 2760          # Half life in seconds\n",
    "tauTl = 132           \n",
    "tauPb = 198           \n",
    "h = 1.0               # Size of time-step in seconds\n",
    "p_Pb = 1 - 2**(-h/tauPb)   # Probability of decay in one step \n",
    "p_Tl = 1 - 2**(-h/tauTl)\n",
    "p_Bi213 = 1 - 2**(-h/tauBi)\n",
    "tmax = 20000           # Total time\n",
    "\n"
   ]
  },
  {
   "cell_type": "code",
   "execution_count": 18,
   "metadata": {},
   "outputs": [
    {
     "data": {
      "image/png": "[encoded data removed]",
      "text/plain": [
       "<Figure size 432x288 with 1 Axes>"
      ]
     },
     "metadata": {
      "needs_background": "light"
     },
     "output_type": "display_data"
    },
    {
     "name": "stdout",
     "output_type": "stream",
     "text": [
      "Bi213 = Blue, Pb = green, Tl = pink, and Bi209 = black\n"
     ]
    }
   ],
   "source": [
    "tpoints = arange(0.0,tmax,h)\n",
    "Bi213points = []\n",
    "Pbpoints = []\n",
    "Tlpoints = []\n",
    "Bi209points = []\n",
    "for t in tpoints:\n",
    "    Pbpoints.append(NPb)\n",
    "    Bi209points.append(NBi209)\n",
    "    Tlpoints.append(NTl)\n",
    "    Bi213points.append(NBi213)\n",
    "    decay1=0\n",
    "    decay2=0\n",
    "    decay3=0\n",
    "    for i in range(NPb):\n",
    "        if random()<p_Pb:\n",
    "            decay1+=1\n",
    "    NPb-=decay1\n",
    "    NBi209+=decay1\n",
    "    for n in range(NTl):\n",
    "        if random()<p_Tl:\n",
    "            decay2+=1\n",
    "    NTl-=decay2\n",
    "    NPb+=decay2\n",
    "    for j in range(NBi213):\n",
    "        if random()<p_Bi213:\n",
    "            decay3+=1\n",
    "    NBi213-=decay3\n",
    "    NPb+=round(0.9791*decay3)\n",
    "    NTl+=round(0.0209*decay3)\n",
    "    \n",
    "plot(tpoints, Bi213points, c='b')\n",
    "plot(tpoints, Pbpoints, c='g')\n",
    "plot(tpoints, Tlpoints, c='m')\n",
    "plot(tpoints, Bi209points, c='k')\n",
    "xlabel('Time in Seconds')\n",
    "ylabel('Number of Atoms')\n",
    "show()\n",
    "print(\"Bi213 = Blue, Pb = green, Tl = pink, and Bi209 = black\")"
   ]
  },
  {
   "cell_type": "code",
   "execution_count": null,
   "metadata": {},
   "outputs": [],
   "source": []
  }
 ],
 "metadata": {
  "kernelspec": {
   "display_name": "Python 3",
   "language": "python",
   "name": "python3"
  },
  "language_info": {
   "codemirror_mode": {
    "name": "ipython",
    "version": 3
   },
   "file_extension": ".py",
   "mimetype": "text/x-python",
   "name": "python",
   "nbconvert_exporter": "python",
   "pygments_lexer": "ipython3",
   "version": "3.8.3"
  }
 },
 "nbformat": 4,
 "nbformat_minor": 4
}
