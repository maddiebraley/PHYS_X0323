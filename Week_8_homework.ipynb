{
 "cells": [
  {
   "cell_type": "code",
   "execution_count": 2,
   "metadata": {},
   "outputs": [
    {
     "name": "stdout",
     "output_type": "stream",
     "text": [
      "Input variable a: .001\n",
      "Input variable b: 1000.\n",
      "Input variable c: .001\n",
      "-9.999894245993346e-07 -999999.999999\n"
     ]
    }
   ],
   "source": [
    "# Question 1\n",
    "\n",
    "import numpy as np\n",
    "a = float(input(\"Input variable a: \"))\n",
    "b = float(input(\"Input variable b: \"))\n",
    "c = float(input(\"Input variable c: \"))\n",
    "x_a1 = ((-b)+(np.sqrt((b**2)-(4*a*c))))/(2*a)\n",
    "x_a2 = ((-b)-(np.sqrt((b**2)-(4*a*c))))/(2*a) #keep\n",
    "print(x_a1, x_a2)"
   ]
  },
  {
   "cell_type": "code",
   "execution_count": 3,
   "metadata": {},
   "outputs": [
    {
     "name": "stdout",
     "output_type": "stream",
     "text": [
      "Input variable a: .001\n",
      "Input variable b: 1000.\n",
      "Input variable c: .001\n",
      "-1000010.5755125057 -1.000000000001e-06\n"
     ]
    }
   ],
   "source": [
    "a = float(input(\"Input variable a: \"))\n",
    "b = float(input(\"Input variable b: \"))\n",
    "c = float(input(\"Input variable c: \"))\n",
    "x_b1 = (2*c)/((-b)+(np.sqrt((b**2)-(4*a*c)))) \n",
    "x_b2 = (2*c)/((-b)-(np.sqrt((b**2)-(4*a*c)))) #keep\n",
    "print(x_b1, x_b2)"
   ]
  },
  {
   "cell_type": "markdown",
   "metadata": {},
   "source": [
    "The values of x_1 and x_2 for part a and part b are not the same because of the error incurred from rounding at different points as python only carries a certain number of digits.\n"
   ]
  },
  {
   "cell_type": "code",
   "execution_count": 6,
   "metadata": {},
   "outputs": [
    {
     "name": "stdout",
     "output_type": "stream",
     "text": [
      "Input variable a: .001\n",
      "Input variable b: 1000.\n",
      "Input variable c: .001\n",
      "-1.000000000001e-06 -999999.999999\n"
     ]
    }
   ],
   "source": [
    "a = float(input(\"Input variable a: \"))\n",
    "b = float(input(\"Input variable b: \"))\n",
    "c = float(input(\"Input variable c: \"))\n",
    "\n",
    "x_1 = (2*c)/((-b)-(np.sqrt((b**2)-(4*a*c))))\n",
    "x_2 = ((-b)-(np.sqrt((b**2)-(4*a*c))))/(2*a)\n",
    "print(x_1, x_2)\n",
    "  "
   ]
  },
  {
   "cell_type": "code",
   "execution_count": 52,
   "metadata": {},
   "outputs": [
    {
     "name": "stdout",
     "output_type": "stream",
     "text": [
      "2405.2367255294603\n"
     ]
    }
   ],
   "source": [
    "# Question 2\n",
    "\n",
    "import math\n",
    "V = .001\n",
    "rho = (6.022*10**28)\n",
    "theta = 428.\n",
    "k = 1.38064852*10.0**-23\n",
    "T = 500.\n",
    "\n",
    "def f(x):\n",
    "    return ((x**4)*(math.exp(x)))/(((math.exp(x))-1)**2)\n",
    "\n",
    "N = 1000\n",
    "a = 0.0\n",
    "b = theta/T\n",
    "h = (b-a)/N\n",
    "#assignment tells us f(a)=0 so 0.5f(a)= 0\n",
    "s = 0.5*0 + 0.5*f(b)\n",
    "for r in range (1,N):\n",
    "    s += f(a+r*h)\n",
    "    \n",
    "Int = s*h\n",
    "C = Int* (9*V*rho*k*((T/theta)**3))\n",
    "print(C)\n"
   ]
  },
  {
   "cell_type": "code",
   "execution_count": 59,
   "metadata": {},
   "outputs": [
    {
     "data": {
      "text/plain": [
       "Text(0, 0.5, 'Heat Capacity $(J/K)$')"
      ]
     },
     "execution_count": 59,
     "metadata": {},
     "output_type": "execute_result"
    },
    {
     "data": {
      "image/png": "[encoded data removed]",
      "text/plain": [
       "<Figure size 432x288 with 1 Axes>"
      ]
     },
     "metadata": {
      "needs_background": "light"
     },
     "output_type": "display_data"
    }
   ],
   "source": [
    "from matplotlib import pyplot as plt\n",
    "import numpy as np\n",
    "\n",
    "T = np.array(range(5, 500))\n",
    "Cv = Int* (9*V*rho*k*((T/theta)**3))\n",
    "\n",
    "plt.plot(T,Cv)\n",
    "plt.xlabel('$Temperature$ $(K)$')\n",
    "plt.ylabel('Heat Capacity $(J/K)$')"
   ]
  },
  {
   "cell_type": "code",
   "execution_count": null,
   "metadata": {},
   "outputs": [],
   "source": []
  }
 ],
 "metadata": {
  "kernelspec": {
   "display_name": "Python 3",
   "language": "python",
   "name": "python3"
  },
  "language_info": {
   "codemirror_mode": {
    "name": "ipython",
    "version": 3
   },
   "file_extension": ".py",
   "mimetype": "text/x-python",
   "name": "python",
   "nbconvert_exporter": "python",
   "pygments_lexer": "ipython3",
   "version": "3.8.3"
  }
 },
 "nbformat": 4,
 "nbformat_minor": 4
}
